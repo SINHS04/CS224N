{
 "cells": [
  {
   "cell_type": "code",
   "execution_count": 1,
   "metadata": {},
   "outputs": [],
   "source": [
    "import numpy as np\n",
    "\n",
    "import matplotlib.pyplot as plt\n",
    "\n",
    "plt.style.use('ggplot')\n",
    "from sklearn.decomposition import PCA\n",
    "\n",
    "import gensim.downloader as api\n",
    "from gensim.models import KeyedVectors"
   ]
  },
  {
   "cell_type": "code",
   "execution_count": 2,
   "metadata": {},
   "outputs": [],
   "source": [
    "def analogy(x1, x2, y1):\n",
    "    res = model.most_similar(positive=[y1, x2], negative=[x1])\n",
    "    return res[0][0]"
   ]
  },
  {
   "cell_type": "code",
   "execution_count": 3,
   "metadata": {},
   "outputs": [
    {
     "name": "stdout",
     "output_type": "stream",
     "text": [
      "<class 'gensim.models.keyedvectors.KeyedVectors'>\n"
     ]
    }
   ],
   "source": [
    "model = api.load(\"glove-wiki-gigaword-100\")\n",
    "print(type(model))"
   ]
  },
  {
   "cell_type": "code",
   "execution_count": 4,
   "metadata": {},
   "outputs": [
    {
     "name": "stdout",
     "output_type": "stream",
     "text": [
      "[-0.66146    0.94335   -0.72214    0.17403   -0.42524    0.36303\n",
      "  1.0135    -0.14802    0.25817   -0.20326   -0.64338    0.16632\n",
      "  0.61518    1.397     -0.094506   0.0041843 -0.18976   -0.55421\n",
      " -0.39371   -0.22501   -0.34643    0.32076    0.34395   -0.7034\n",
      "  0.23932    0.69951   -0.16461   -0.31819   -0.34034   -0.44906\n",
      " -0.069667   0.35348    0.17498   -0.95057   -0.2209     1.0647\n",
      "  0.23231    0.32569    0.47662   -1.1206     0.28168   -0.75172\n",
      " -0.54654   -0.66337    0.34804   -0.69058   -0.77092   -0.40167\n",
      " -0.069351  -0.049238  -0.39351    0.16735   -0.14512    1.0083\n",
      " -1.0608    -0.87314   -0.29339    0.68278    0.61634   -0.088844\n",
      "  0.88094    0.099809  -0.27161   -0.58026    0.50364   -0.93814\n",
      "  0.67576   -0.43124   -0.10517   -1.2404    -0.74353    0.28637\n",
      "  0.29012    0.89377    0.67406    0.86422   -0.30693   -0.14718\n",
      "  0.078353   0.74013    0.32658   -0.052579  -1.1665     0.87079\n",
      " -0.69402   -0.75977   -0.37164   -0.11887    0.18551    0.041883\n",
      "  0.59352    0.30519   -0.54819   -0.29424   -1.4912    -1.6548\n",
      "  0.98982    0.27325    1.009      0.94544  ]\n",
      "[-0.25144    0.52157   -0.75452    0.28039   -0.31388    0.274\n",
      "  1.1971    -0.10519    0.82544   -0.33398   -0.21417    0.22216\n",
      "  0.14982    0.47384    0.41984    0.69397   -0.25999   -0.44414\n",
      "  0.58296   -0.30851   -0.076455   0.33468    0.28055   -0.99012\n",
      "  0.30349    0.39128    0.031526  -0.095395  -0.004745  -0.81347\n",
      "  0.27869   -0.1812     0.14632   -0.42186    0.13857    1.139\n",
      "  0.14925   -0.051459   0.37875   -0.2613     0.011081  -0.28881\n",
      " -0.38662   -0.3135    -0.1954     0.19248   -0.52995   -0.40674\n",
      " -0.25159    0.06272   -0.32724    0.28374   -0.2155    -0.061832\n",
      " -0.50134    0.0093959  0.30715    0.3873    -0.74554   -0.45947\n",
      "  0.40032   -0.1378    -0.26968   -0.3946    -0.64876   -0.47149\n",
      " -0.085536   0.092795  -0.034018  -0.61906    0.19123    0.20563\n",
      "  0.29056   -0.010908   0.15313    0.33144    0.33806    0.061708\n",
      "  0.20785    0.65348   -0.053222   0.18589    0.32647   -0.11923\n",
      "  0.42008   -0.26931    0.025489   0.0036535  0.1327    -0.22763\n",
      "  0.07564    0.55773    0.2978     0.28144    0.19775   -0.23582\n",
      "  0.65303    0.089897   0.35844    0.14304  ]\n"
     ]
    }
   ],
   "source": [
    "print(model['bread'])\n",
    "print(model['croissant'])"
   ]
  },
  {
   "cell_type": "code",
   "execution_count": 5,
   "metadata": {},
   "outputs": [
    {
     "name": "stdout",
     "output_type": "stream",
     "text": [
      "[('canada', 0.6544384360313416), ('america', 0.645224392414093), ('u.s.a.', 0.6184033751487732), ('united', 0.6017189621925354), ('states', 0.5970699191093445), ('australia', 0.5838716626167297), ('world', 0.5590085387229919), ('2010', 0.558070182800293), ('2012', 0.5504006743431091), ('davis', 0.5464468002319336)]\n",
      "[('coconut', 0.7097253799438477), ('mango', 0.705482542514801), ('bananas', 0.6887733936309814), ('potato', 0.6629636287689209), ('pineapple', 0.6534532308578491), ('fruit', 0.6519855260848999), ('peanut', 0.6420576572418213), ('pecan', 0.6349173188209534), ('cashew', 0.6294420957565308), ('papaya', 0.6246591210365295)]\n"
     ]
    }
   ],
   "source": [
    "print(model.most_similar('usa'))\n",
    "print(model.most_similar('banana'))"
   ]
  },
  {
   "cell_type": "code",
   "execution_count": 6,
   "metadata": {},
   "outputs": [
    {
     "name": "stdout",
     "output_type": "stream",
     "text": [
      "queen: 0.7699\n"
     ]
    }
   ],
   "source": [
    "result = model.most_similar(positive=['woman', 'king'], negative=['man'])\n",
    "print(\"{}: {:.4f}\".format(*result[0]))"
   ]
  },
  {
   "cell_type": "code",
   "execution_count": 7,
   "metadata": {},
   "outputs": [
    {
     "name": "stdout",
     "output_type": "stream",
     "text": [
      "queen\n",
      "woman\n",
      "photographing\n",
      "longest\n"
     ]
    }
   ],
   "source": [
    "print(analogy('man', 'king', 'woman'))\n",
    "print(analogy('king', 'man', 'queen'))\n",
    "print(analogy('pencil', 'sketching', 'camera'))\n",
    "print(analogy('tall', 'tallest', 'long'))"
   ]
  }
 ],
 "metadata": {
  "kernelspec": {
   "display_name": "dice",
   "language": "python",
   "name": "python3"
  },
  "language_info": {
   "codemirror_mode": {
    "name": "ipython",
    "version": 3
   },
   "file_extension": ".py",
   "mimetype": "text/x-python",
   "name": "python",
   "nbconvert_exporter": "python",
   "pygments_lexer": "ipython3",
   "version": "3.10.12"
  },
  "orig_nbformat": 4
 },
 "nbformat": 4,
 "nbformat_minor": 2
}
